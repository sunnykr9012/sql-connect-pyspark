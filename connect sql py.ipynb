{
 "cells": [
  {
   "cell_type": "code",
   "execution_count": 1,
   "id": "fbc7b246",
   "metadata": {},
   "outputs": [
    {
     "name": "stdout",
     "output_type": "stream",
     "text": [
      "Collecting python-sql\n",
      "  Downloading python_sql-1.4.0-py3-none-any.whl (40 kB)\n",
      "     ---------------------------------------- 40.1/40.1 kB 1.9 MB/s eta 0:00:00\n",
      "Installing collected packages: python-sql\n",
      "Successfully installed python-sql-1.4.0\n"
     ]
    }
   ],
   "source": [
    "!pip install python-sql\n"
   ]
  },
  {
   "cell_type": "code",
   "execution_count": 2,
   "id": "0f687d91",
   "metadata": {},
   "outputs": [],
   "source": [
    "from sql import *\n",
    "from sql.aggregate import *\n",
    "from sql.conditionals import  *"
   ]
  },
  {
   "cell_type": "code",
   "execution_count": 3,
   "id": "0a894b54",
   "metadata": {},
   "outputs": [
    {
     "data": {
      "text/plain": [
       "('SELECT * FROM \"user\" AS \"a\"', ())"
      ]
     },
     "execution_count": 3,
     "metadata": {},
     "output_type": "execute_result"
    }
   ],
   "source": [
    "user = Table('user')\n",
    "select=user.select()\n",
    "tuple(select)"
   ]
  },
  {
   "cell_type": "code",
   "execution_count": 4,
   "id": "def9906a",
   "metadata": {},
   "outputs": [
    {
     "data": {
      "text/plain": [
       "('SELECT \"a\".\"name\" FROM \"user\" AS \"a\"', ())"
      ]
     },
     "execution_count": 4,
     "metadata": {},
     "output_type": "execute_result"
    }
   ],
   "source": [
    "select=user.select(user.name)\n",
    "tuple(select)"
   ]
  },
  {
   "cell_type": "code",
   "execution_count": 5,
   "id": "87c7e9d6",
   "metadata": {},
   "outputs": [
    {
     "data": {
      "text/plain": [
       "('SELECT COUNT(%s) FROM \"user\" AS \"a\"', (1,))"
      ]
     },
     "execution_count": 5,
     "metadata": {},
     "output_type": "execute_result"
    }
   ],
   "source": [
    "select=user.select(Count(Literal(1)))\n",
    "tuple(select)"
   ]
  },
  {
   "cell_type": "code",
   "execution_count": 6,
   "id": "89fc1aa9",
   "metadata": {},
   "outputs": [
    {
     "data": {
      "text/plain": [
       "('SELECT DISTINCT \"a\".\"name\" FROM \"user\" AS \"a\"', ())"
      ]
     },
     "execution_count": 6,
     "metadata": {},
     "output_type": "execute_result"
    }
   ],
   "source": [
    "select=user.select(user.name,distinct=True)\n",
    "tuple(select)"
   ]
  },
  {
   "cell_type": "code",
   "execution_count": 7,
   "id": "5d629a22",
   "metadata": {},
   "outputs": [
    {
     "data": {
      "text/plain": [
       "('SELECT \"a\".\"id\", \"a\".\"name\" FROM \"user\" AS \"a\"', ())"
      ]
     },
     "execution_count": 7,
     "metadata": {},
     "output_type": "execute_result"
    }
   ],
   "source": [
    "select=user.select(user.id,user.name)\n",
    "tuple(select)"
   ]
  },
  {
   "cell_type": "code",
   "execution_count": 8,
   "id": "31ca552d",
   "metadata": {},
   "outputs": [
    {
     "data": {
      "text/plain": [
       "('SELECT \"a\".\"id\", \"a\".\"name\" FROM \"user\" AS \"a\" WHERE (\"a\".\"name\" = %s)',\n",
       " ('foo',))"
      ]
     },
     "execution_count": 8,
     "metadata": {},
     "output_type": "execute_result"
    }
   ],
   "source": [
    "#select with where conditions:\n",
    "select.where = user.name =='foo'\n",
    "tuple(select)"
   ]
  },
  {
   "cell_type": "code",
   "execution_count": 9,
   "id": "9b704f59",
   "metadata": {},
   "outputs": [
    {
     "data": {
      "text/plain": [
       "('SELECT \"a\".\"id\", \"a\".\"name\" FROM \"user\" AS \"a\" WHERE ((\"a\".\"name\" = %s) AND (\"a\".\"active\" = %s))',\n",
       " ('foo', True))"
      ]
     },
     "execution_count": 9,
     "metadata": {},
     "output_type": "execute_result"
    }
   ],
   "source": [
    "select.where = (user.name =='foo')& (user.active==True)\n",
    "tuple(select)"
   ]
  },
  {
   "cell_type": "code",
   "execution_count": 10,
   "id": "d995f525",
   "metadata": {},
   "outputs": [
    {
     "data": {
      "text/plain": [
       "('SELECT \"a\".\"id\", \"a\".\"name\" FROM \"user\" AS \"a\" WHERE (\"a\".\"name\" = \"a\".\"login\")',\n",
       " ())"
      ]
     },
     "execution_count": 10,
     "metadata": {},
     "output_type": "execute_result"
    }
   ],
   "source": [
    "select.where = user.name ==user.login\n",
    "tuple(select)"
   ]
  },
  {
   "cell_type": "code",
   "execution_count": 11,
   "id": "85401fac",
   "metadata": {},
   "outputs": [
    {
     "data": {
      "text/plain": [
       "('SELECT \"a\".\"name\", \"b\".\"group\" FROM \"user\" AS \"a\" INNER JOIN \"user_group\" AS \"b\" ON (\"b\".\"useer\" = \"a\".\"id\")',\n",
       " ())"
      ]
     },
     "execution_count": 11,
     "metadata": {},
     "output_type": "execute_result"
    }
   ],
   "source": [
    "#select with join:\n",
    "join=user.join(Table('user_group'))\n",
    "join.condition=join.right.useer==user.id\n",
    "select=join.select(user.name,join.right.group)\n",
    "tuple(select)"
   ]
  },
  {
   "cell_type": "code",
   "execution_count": 12,
   "id": "645533d2",
   "metadata": {},
   "outputs": [
    {
     "data": {
      "text/plain": [
       "('SELECT \"a\".\"id\", \"b\".\"id\", \"c\".\"id\" FROM \"user\" AS \"a\" INNER JOIN \"user\" AS \"b\" INNER JOIN \"user\" AS \"c\"',\n",
       " ())"
      ]
     },
     "execution_count": 12,
     "metadata": {},
     "output_type": "execute_result"
    }
   ],
   "source": [
    "#select with multiple joins:\n",
    "join1=user.join(Table('user'))\n",
    "join2=join1.join(Table('user'))\n",
    "select=join2.select(user.id,join1.right.id,join2.right.id)\n",
    "tuple(select)"
   ]
  },
  {
   "cell_type": "code",
   "execution_count": 13,
   "id": "5b61dbbc",
   "metadata": {},
   "outputs": [
    {
     "data": {
      "text/plain": [
       "('SELECT SUM(\"a\".\"amount\"), \"a\".\"currency\" FROM \"invoice\" AS \"a\" GROUP BY \"a\".\"currency\"',\n",
       " ())"
      ]
     },
     "execution_count": 13,
     "metadata": {},
     "output_type": "execute_result"
    }
   ],
   "source": [
    "#select with groupby:\n",
    "invoice=Table('invoice')\n",
    "select=invoice.select(Sum(invoice.amount),invoice.currency,\n",
    "       group_by=invoice.currency)\n",
    "tuple(select)"
   ]
  },
  {
   "cell_type": "code",
   "execution_count": 14,
   "id": "2b4162e5",
   "metadata": {},
   "outputs": [
    {
     "data": {
      "text/plain": [
       "('SELECT \"a\".\"name\" AS \"First Name\" FROM \"user\" AS \"a\"', ())"
      ]
     },
     "execution_count": 14,
     "metadata": {},
     "output_type": "execute_result"
    }
   ],
   "source": [
    "#select with output name:\n",
    "tuple(user.select(user.name.as_('First Name')))"
   ]
  },
  {
   "cell_type": "code",
   "execution_count": 15,
   "id": "5d474c6f",
   "metadata": {},
   "outputs": [
    {
     "data": {
      "text/plain": [
       "('SELECT * FROM \"user\" AS \"a\" ORDER BY \"a\".\"date\"', ())"
      ]
     },
     "execution_count": 15,
     "metadata": {},
     "output_type": "execute_result"
    }
   ],
   "source": [
    "#select with order_by\n",
    "tuple(user.select(order_by=user.date))"
   ]
  },
  {
   "cell_type": "code",
   "execution_count": 16,
   "id": "64c2723f",
   "metadata": {},
   "outputs": [
    {
     "data": {
      "text/plain": [
       "('SELECT * FROM \"user\" AS \"a\" ORDER BY \"a\".\"date\" ASC', ())"
      ]
     },
     "execution_count": 16,
     "metadata": {},
     "output_type": "execute_result"
    }
   ],
   "source": [
    "tuple(user.select(order_by=Asc(user.date)))"
   ]
  },
  {
   "cell_type": "code",
   "execution_count": 17,
   "id": "5b880aae",
   "metadata": {},
   "outputs": [
    {
     "data": {
      "text/plain": [
       "('SELECT * FROM \"user\" AS \"a\" ORDER BY \"a\".\"date\" ASC, \"a\".\"id\" DESC', ())"
      ]
     },
     "execution_count": 17,
     "metadata": {},
     "output_type": "execute_result"
    }
   ],
   "source": [
    "tuple(user.select(order_by=(user.date.asc, user.id.desc)))"
   ]
  },
  {
   "cell_type": "code",
   "execution_count": 18,
   "id": "4e154b53",
   "metadata": {},
   "outputs": [
    {
     "data": {
      "text/plain": [
       "('SELECT \"a\".\"id\" FROM \"user\" AS \"a\" WHERE (\"a\".\"id\" IN (SELECT \"b\".\"user\" FROM \"user_group\" AS \"b\" WHERE (\"b\".\"active\" = %s)))',\n",
       " (True,))"
      ]
     },
     "execution_count": 18,
     "metadata": {},
     "output_type": "execute_result"
    }
   ],
   "source": [
    "#select with sub-select:\n",
    "user_group=Table('user_group')\n",
    "subselect=user_group.select(user_group.user,\n",
    "    where=user_group.active==True)\n",
    "user=Table('user')\n",
    "tuple(user.select(user.id,where=user.id.in_(subselect)))"
   ]
  },
  {
   "cell_type": "code",
   "execution_count": 19,
   "id": "18e797d3",
   "metadata": {},
   "outputs": [
    {
     "data": {
      "text/plain": [
       "('SELECT \"a\".\"user\" FROM (SELECT \"b\".\"user\" FROM \"user_group\" AS \"b\" WHERE (\"b\".\"active\" = %s)) AS \"a\"',\n",
       " (True,))"
      ]
     },
     "execution_count": 19,
     "metadata": {},
     "output_type": "execute_result"
    }
   ],
   "source": [
    "tuple(subselect.select(subselect.user))"
   ]
  },
  {
   "cell_type": "code",
   "execution_count": 20,
   "id": "b30147a5",
   "metadata": {},
   "outputs": [
    {
     "data": {
      "text/plain": [
       "('SELECT * FROM \"myschema\".\"user\" AS \"a\"', ())"
      ]
     },
     "execution_count": 20,
     "metadata": {},
     "output_type": "execute_result"
    }
   ],
   "source": [
    "other_table=Table('user','myschema')\n",
    "tuple(other_table.select())"
   ]
  },
  {
   "cell_type": "code",
   "execution_count": 21,
   "id": "699aff97",
   "metadata": {},
   "outputs": [
    {
     "data": {
      "text/plain": [
       "('INSERT INTO \"user\" AS \"a\" (\"name\", \"login\") VALUES (%s, %s)', ('Foo', 'foo'))"
      ]
     },
     "execution_count": 21,
     "metadata": {},
     "output_type": "execute_result"
    }
   ],
   "source": [
    "#insert query wit default valuse:\n",
    "tuple(user.insert())\n",
    "tuple(user.insert(columns=[user.name,user.login],\n",
    "       values=[['Foo','foo']]))"
   ]
  },
  {
   "cell_type": "code",
   "execution_count": 22,
   "id": "4f786bc3",
   "metadata": {},
   "outputs": [
    {
     "data": {
      "text/plain": [
       "('INSERT INTO \"user\" AS \"a\" (\"name\", \"login\") VALUES (%s, %s), (%s, %s)',\n",
       " ('Foo', 'foo', 'Bar', 'bar'))"
      ]
     },
     "execution_count": 22,
     "metadata": {},
     "output_type": "execute_result"
    }
   ],
   "source": [
    "tuple(user.insert(columns=[user.name,user.login],\n",
    "       values=[['Foo','foo'],['Bar','bar']]))"
   ]
  },
  {
   "cell_type": "code",
   "execution_count": 23,
   "id": "ebf20ffc",
   "metadata": {},
   "outputs": [
    {
     "data": {
      "text/plain": [
       "('INSERT INTO \"user\" AS \"b\" SELECT SUM(\"a\".\"amount\"), \"a\".\"currency\" FROM \"invoice\" AS \"a\" GROUP BY \"a\".\"currency\"',\n",
       " ())"
      ]
     },
     "execution_count": 23,
     "metadata": {},
     "output_type": "execute_result"
    }
   ],
   "source": [
    "#insert query with query:\n",
    "passwd=Table('passwd')\n",
    "sselect=passwd.select(passwd.login,passwd.passwd)\n",
    "tuple(user.insert(values=select))"
   ]
  },
  {
   "cell_type": "code",
   "execution_count": 24,
   "id": "317fbe90",
   "metadata": {},
   "outputs": [
    {
     "data": {
      "text/plain": [
       "('SELECT SUM(\"a\".\"amount\"), \"a\".\"currency\" FROM \"invoice\" AS \"a\" GROUP BY \"a\".\"currency\"',\n",
       " ())"
      ]
     },
     "execution_count": 24,
     "metadata": {},
     "output_type": "execute_result"
    }
   ],
   "source": [
    "#update query with values:\n",
    "tuple(user.update(columns=[user.active],values=[True]))\n",
    "tuple(select)"
   ]
  },
  {
   "cell_type": "code",
   "execution_count": 25,
   "id": "07856e29",
   "metadata": {},
   "outputs": [
    {
     "data": {
      "text/plain": [
       "('UPDATE \"invoice\" AS \"a\" SET \"total\" = (\"a\".\"amount\" + \"a\".\"tax\")', ())"
      ]
     },
     "execution_count": 25,
     "metadata": {},
     "output_type": "execute_result"
    }
   ],
   "source": [
    "tuple(invoice.update(columns=[invoice.total],values=[invoice.amount + invoice.tax]))"
   ]
  },
  {
   "cell_type": "code",
   "execution_count": 26,
   "id": "07fc4d90",
   "metadata": {},
   "outputs": [
    {
     "data": {
      "text/plain": [
       "('UPDATE \"user\" AS \"a\" SET \"active\" = %s WHERE (\"a\".\"active\" = %s)',\n",
       " (True, False))"
      ]
     },
     "execution_count": 26,
     "metadata": {},
     "output_type": "execute_result"
    }
   ],
   "source": [
    "#update query with where condition:\n",
    "tuple(user.update(columns=[user.active],values=[True],\n",
    "          where=user.active==False))"
   ]
  },
  {
   "cell_type": "code",
   "execution_count": null,
   "id": "e8cb9c47",
   "metadata": {},
   "outputs": [],
   "source": []
  },
  {
   "cell_type": "code",
   "execution_count": null,
   "id": "0c499ce6",
   "metadata": {},
   "outputs": [],
   "source": []
  }
 ],
 "metadata": {
  "kernelspec": {
   "display_name": "Python 3 (ipykernel)",
   "language": "python",
   "name": "python3"
  },
  "language_info": {
   "codemirror_mode": {
    "name": "ipython",
    "version": 3
   },
   "file_extension": ".py",
   "mimetype": "text/x-python",
   "name": "python",
   "nbconvert_exporter": "python",
   "pygments_lexer": "ipython3",
   "version": "3.9.13"
  }
 },
 "nbformat": 4,
 "nbformat_minor": 5
}
